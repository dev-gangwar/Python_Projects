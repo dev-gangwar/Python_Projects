{
  "nbformat": 4,
  "nbformat_minor": 0,
  "metadata": {
    "colab": {
      "name": "Ph_Number_info.ipynb",
      "provenance": [],
      "authorship_tag": "ABX9TyPR2libj1PUmA1nVqoT6aHp",
      "include_colab_link": true
    },
    "kernelspec": {
      "name": "python3",
      "display_name": "Python 3"
    },
    "language_info": {
      "name": "python"
    }
  },
  "cells": [
    {
      "cell_type": "markdown",
      "metadata": {
        "id": "view-in-github",
        "colab_type": "text"
      },
      "source": [
        "<a href=\"https://colab.research.google.com/github/dev-gangwar/Python_Projects/blob/main/Ph_Number_info.ipynb\" target=\"_parent\"><img src=\"https://colab.research.google.com/assets/colab-badge.svg\" alt=\"Open In Colab\"/></a>"
      ]
    },
    {
      "cell_type": "code",
      "metadata": {
        "colab": {
          "base_uri": "https://localhost:8080/"
        },
        "id": "QV4UCGj2Exqj",
        "outputId": "e9e988c8-1197-43df-d268-6309aa00bb90"
      },
      "source": [
        "pip install opencage\n"
      ],
      "execution_count": 11,
      "outputs": [
        {
          "output_type": "stream",
          "name": "stdout",
          "text": [
            "Requirement already satisfied: opencage in /usr/local/lib/python3.7/dist-packages (2.0.0)\n",
            "Requirement already satisfied: Requests>=2.2.0 in /usr/local/lib/python3.7/dist-packages (from opencage) (2.23.0)\n",
            "Requirement already satisfied: backoff>=1.10.0 in /usr/local/lib/python3.7/dist-packages (from opencage) (1.11.1)\n",
            "Requirement already satisfied: pyopenssl>=0.15.1 in /usr/local/lib/python3.7/dist-packages (from opencage) (21.0.0)\n",
            "Requirement already satisfied: cryptography>=3.3 in /usr/local/lib/python3.7/dist-packages (from pyopenssl>=0.15.1->opencage) (36.0.0)\n",
            "Requirement already satisfied: six>=1.5.2 in /usr/local/lib/python3.7/dist-packages (from pyopenssl>=0.15.1->opencage) (1.15.0)\n",
            "Requirement already satisfied: cffi>=1.12 in /usr/local/lib/python3.7/dist-packages (from cryptography>=3.3->pyopenssl>=0.15.1->opencage) (1.15.0)\n",
            "Requirement already satisfied: pycparser in /usr/local/lib/python3.7/dist-packages (from cffi>=1.12->cryptography>=3.3->pyopenssl>=0.15.1->opencage) (2.21)\n",
            "Requirement already satisfied: urllib3!=1.25.0,!=1.25.1,<1.26,>=1.21.1 in /usr/local/lib/python3.7/dist-packages (from Requests>=2.2.0->opencage) (1.24.3)\n",
            "Requirement already satisfied: chardet<4,>=3.0.2 in /usr/local/lib/python3.7/dist-packages (from Requests>=2.2.0->opencage) (3.0.4)\n",
            "Requirement already satisfied: certifi>=2017.4.17 in /usr/local/lib/python3.7/dist-packages (from Requests>=2.2.0->opencage) (2021.10.8)\n",
            "Requirement already satisfied: idna<3,>=2.5 in /usr/local/lib/python3.7/dist-packages (from Requests>=2.2.0->opencage) (2.10)\n"
          ]
        }
      ]
    },
    {
      "cell_type": "code",
      "metadata": {
        "colab": {
          "base_uri": "https://localhost:8080/"
        },
        "id": "ezARlNp0Hdh8",
        "outputId": "c6fb41c6-33fb-4e8a-a518-cb5b8f508416"
      },
      "source": [
        "pip install phonenumbers"
      ],
      "execution_count": 12,
      "outputs": [
        {
          "output_type": "stream",
          "name": "stdout",
          "text": [
            "Collecting phonenumbers\n",
            "  Downloading phonenumbers-8.12.37-py2.py3-none-any.whl (2.6 MB)\n",
            "\u001b[K     |████████████████████████████████| 2.6 MB 36.2 MB/s \n",
            "\u001b[?25hInstalling collected packages: phonenumbers\n",
            "Successfully installed phonenumbers-8.12.37\n"
          ]
        }
      ]
    },
    {
      "cell_type": "code",
      "metadata": {
        "id": "X6l1kmQAGp5I"
      },
      "source": [
        "from opencage.geocoder import OpenCageGeocode\n",
        "import folium\n",
        "import phonenumbers\n",
        "from phonenumbers import geocoder,timezone,carrier"
      ],
      "execution_count": 14,
      "outputs": []
    },
    {
      "cell_type": "code",
      "metadata": {
        "id": "sl8FNaLcIM_1"
      },
      "source": [
        "key='c65ff0105cc04ae29bbd0805ffaa2de7'"
      ],
      "execution_count": 15,
      "outputs": []
    },
    {
      "cell_type": "code",
      "metadata": {
        "colab": {
          "base_uri": "https://localhost:8080/"
        },
        "id": "6gPpK56QIQ8Y",
        "outputId": "e58d2d36-5d62-45be-afed-452e9b05b8e6"
      },
      "source": [
        "numbers=input(\"input any number\")\n",
        "ph_number=phonenumbers.parse(numbers)\n",
        "valid=phonenumbers.is_valid_number(ph_number)\n",
        "possible=phonenumbers.is_possible_number(ph_number)\n",
        "if ((valid and possible)==True):\n",
        "  Carrier=carrier.name_for_number(ph_number,'en')\n",
        "  Region=geocoder.description_for_number(ph_number,'en')\n",
        "  Timezone=timezone.time_zones_for_number(ph_number)\n",
        "  print(Carrier)\n",
        "  print(Region)\n",
        "  print(Timezone)"
      ],
      "execution_count": 28,
      "outputs": [
        {
          "output_type": "stream",
          "name": "stdout",
          "text": [
            "input any number+919761714969\n",
            "Vodafone\n",
            "India\n",
            "('Asia/Calcutta',)\n"
          ]
        }
      ]
    }
  ]
}